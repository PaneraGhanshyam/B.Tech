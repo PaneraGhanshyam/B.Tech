{
 "cells": [
  {
   "cell_type": "markdown",
   "metadata": {},
   "source": [
    "\n",
    "<a href='https://www.darshan.ac.in/'> <img src='https://www.darshan.ac.in/Content/media/DU_Logo.svg' width=\"250\" height=\"300\"/></a>\n",
    "<pre>\n",
    "<center><b><h1>Python Programming - 2301CS404</b></center>\n",
    "<center><b><h1>Lab - 2</b></center>    \n",
    "<pre>"
   ]
  },
  {
   "cell_type": "markdown",
   "metadata": {},
   "source": [
    "# if..else.."
   ]
  },
  {
   "cell_type": "markdown",
   "metadata": {},
   "source": [
    "### 01) WAP to check whether the given number is positive or negative."
   ]
  },
  {
   "cell_type": "code",
   "execution_count": 17,
   "metadata": {},
   "outputs": [
    {
     "name": "stdin",
     "output_type": "stream",
     "text": [
      "Enter number: 1\n"
     ]
    },
    {
     "name": "stdout",
     "output_type": "stream",
     "text": [
      "Positive.\n"
     ]
    }
   ],
   "source": [
    "n=int(input(\"Enter number:\"))\n",
    "print(\"Positive.\" if n>0 else \"Negative.\")"
   ]
  },
  {
   "cell_type": "markdown",
   "metadata": {},
   "source": [
    "### 02) WAP to check whether the given number is odd or even."
   ]
  },
  {
   "cell_type": "code",
   "execution_count": 25,
   "metadata": {},
   "outputs": [
    {
     "name": "stdin",
     "output_type": "stream",
     "text": [
      "Enter number: 3\n"
     ]
    },
    {
     "name": "stdout",
     "output_type": "stream",
     "text": [
      "Odd.\n"
     ]
    }
   ],
   "source": [
    "n=int(input(\"Enter number:\"))\n",
    "print(\"Even.\" if n%2==0 else \"Odd.\")"
   ]
  },
  {
   "cell_type": "markdown",
   "metadata": {},
   "source": [
    "### 03) WAP to find out largest number from given two numbers using simple if and ternary operator."
   ]
  },
  {
   "cell_type": "code",
   "execution_count": 31,
   "metadata": {},
   "outputs": [
    {
     "name": "stdin",
     "output_type": "stream",
     "text": [
      "Enter number-1: 20\n",
      "Enter number-2: 10\n"
     ]
    },
    {
     "name": "stdout",
     "output_type": "stream",
     "text": [
      "Largest is 20\n"
     ]
    }
   ],
   "source": [
    "n1=int(input(\"Enter number-1:\"))\n",
    "n2=int(input(\"Enter number-2:\"))\n",
    "\n",
    "print(f\"Largest is {n1}\" if n1>n2 else f\"Largest is {n2}\")"
   ]
  },
  {
   "cell_type": "markdown",
   "metadata": {},
   "source": [
    "### 04) WAP to find out largest number from given three numbers."
   ]
  },
  {
   "cell_type": "code",
   "execution_count": 47,
   "metadata": {},
   "outputs": [
    {
     "name": "stdin",
     "output_type": "stream",
     "text": [
      "Enter number-1: 10\n",
      "Enter number-2: 30\n",
      "Enter number-3: 20\n"
     ]
    },
    {
     "name": "stdout",
     "output_type": "stream",
     "text": [
      "Largest is 30\n"
     ]
    }
   ],
   "source": [
    "n1=int(input(\"Enter number-1:\"))\n",
    "n2=int(input(\"Enter number-2:\"))\n",
    "n3=int(input(\"Enter number-3:\"))\n",
    "\n",
    "print(f\"Largest is {n1}\" if n1>n3 else f\"Largest is {n3}\" if n1>n2 else f\"Largest is {n2}\" if n2>n3 else f\"Largest is {n3}\" )\n"
   ]
  },
  {
   "cell_type": "markdown",
   "metadata": {},
   "source": [
    "### 05) WAP to check whether the given year is leap year or not.\n",
    "[If a year can be divisible by 4 but not divisible by 100 then it is leap year but if it is divisible by 400 then it is leap year]"
   ]
  },
  {
   "cell_type": "code",
   "execution_count": 71,
   "metadata": {},
   "outputs": [
    {
     "name": "stdin",
     "output_type": "stream",
     "text": [
      "Enter year: 2020\n"
     ]
    },
    {
     "name": "stdout",
     "output_type": "stream",
     "text": [
      "Year is leap year.\n"
     ]
    }
   ],
   "source": [
    "year=int(input(\"Enter year:\"))\n",
    "\n",
    "print(f\"Year is leap year.\" if (year % 4 == 0 and year % 100 != 0) or (year % 400 == 0) else \"Year is not leap year.\")\n"
   ]
  },
  {
   "cell_type": "markdown",
   "metadata": {},
   "source": [
    "### 06) WAP in python to display the name of the day according to the number given by the user."
   ]
  },
  {
   "cell_type": "code",
   "execution_count": 80,
   "metadata": {},
   "outputs": [
    {
     "name": "stdin",
     "output_type": "stream",
     "text": [
      "Enter day :  7\n"
     ]
    },
    {
     "name": "stdout",
     "output_type": "stream",
     "text": [
      "sun\n"
     ]
    }
   ],
   "source": [
    "days=\"mon tue wed thu fri sat sun\".split(\" \")\n",
    "ch=int(input(\"Enter day : \"))\n",
    "print(days[ch-1])"
   ]
  },
  {
   "cell_type": "markdown",
   "metadata": {},
   "source": [
    "### 07) WAP to implement simple calculator which performs (add,sub,mul,div) of two no. based on user input."
   ]
  },
  {
   "cell_type": "code",
   "execution_count": 94,
   "metadata": {},
   "outputs": [
    {
     "name": "stdin",
     "output_type": "stream",
     "text": [
      "Enter number-1: 10\n",
      "Enter number-2: 20\n",
      "Enter operator: **\n"
     ]
    },
    {
     "name": "stdout",
     "output_type": "stream",
     "text": [
      "100000000000000000000\n"
     ]
    }
   ],
   "source": [
    "n1=(input(\"Enter number-1:\"))\n",
    "n2=(input(\"Enter number-2:\"))\n",
    "op=input(\"Enter operator:\")\n",
    "\n",
    "print(eval(n1+op+n2))\n"
   ]
  },
  {
   "cell_type": "markdown",
   "metadata": {},
   "source": [
    "### 08) WAP to read marks of five subjects. Calculate percentage and print class accordingly. \n",
    "Fail below 35 </br>\n",
    "Pass Class between 35 to 45 </br>\n",
    "Second Class</br>\n",
    "between 45 to 60</br>\n",
    "First Class between 60 to 70</br> \n",
    "Distinction if more than 70"
   ]
  },
  {
   "cell_type": "code",
   "execution_count": 166,
   "metadata": {},
   "outputs": [
    {
     "name": "stdin",
     "output_type": "stream",
     "text": [
      "Enter subject 1 marks: 71\n",
      "Enter subject 2 marks: 71\n",
      "Enter subject 3 marks: 71\n",
      "Enter subject 4 marks: 71\n",
      "Enter subject 5 marks: 71\n"
     ]
    },
    {
     "name": "stdout",
     "output_type": "stream",
     "text": [
      "Distinction.\n"
     ]
    }
   ],
   "source": [
    "l=[]\n",
    "i=0\n",
    "tot=0\n",
    "while(i<5):\n",
    "    temp=int(input(f\"Enter subject {i+1} marks:\"))\n",
    "    tot += temp\n",
    "    i += 1\n",
    "    \n",
    "per=(tot/500)*100\n",
    "if per<35:\n",
    "    print(\"Fail.\")\n",
    "elif per>=35 and per<45:\n",
    "    print(\"Pass class.\")\n",
    "elif per>=45 and per<60:\n",
    "    print(\"Second class.\")\n",
    "elif per>=60 and per<70:\n",
    "    print(\"First class.|\")\n",
    "else:\n",
    "    print(\"Distinction.\")\n",
    "    \n"
   ]
  },
  {
   "cell_type": "markdown",
   "metadata": {},
   "source": [
    "### 09) Three sides of a triangle are entered through the keyboard, WAP to check whether the triangle is isosceles, equilateral, scalene or right-angled triangle."
   ]
  },
  {
   "cell_type": "code",
   "execution_count": 170,
   "metadata": {},
   "outputs": [
    {
     "name": "stdin",
     "output_type": "stream",
     "text": [
      "Enter the length of side 1:  3\n",
      "Enter the length of side 2:  4\n",
      "Enter the length of side 3:  5\n"
     ]
    },
    {
     "name": "stdout",
     "output_type": "stream",
     "text": [
      "Scalene Triangle\n",
      "Right-Angled Triangle\n"
     ]
    }
   ],
   "source": [
    "def is_right_angle(a, b, c):\n",
    "    return a**2 + b**2 == c**2 or b**2 + c**2 == a**2 or c**2 + a**2 == b**2\n",
    "\n",
    "def check_triangle_type(a, b, c):\n",
    "    if a + b > c and b + c > a and c + a > b:\n",
    "        if a == b == c:\n",
    "            print(\"Equilateral Triangle\")\n",
    "        elif a == b or b == c or c == a:\n",
    "            print(\"Isosceles Triangle\")\n",
    "        elif a != b and b != c and c != a:\n",
    "            print(\"Scalene Triangle\")\n",
    "        if is_right_angle(a, b, c):\n",
    "            print(\"Right-Angled Triangle\")\n",
    "    else:\n",
    "        print(\"The sides do not form a valid triangle.\")\n",
    "\n",
    "a = float(input(\"Enter the length of side 1: \"))\n",
    "b = float(input(\"Enter the length of side 2: \"))\n",
    "c = float(input(\"Enter the length of side 3: \"))\n",
    "\n",
    "check_triangle_type(a, b, c)\n"
   ]
  },
  {
   "cell_type": "markdown",
   "metadata": {},
   "source": [
    "### 10) WAP to find the second largest number among three user input numbers."
   ]
  },
  {
   "cell_type": "code",
   "execution_count": 173,
   "metadata": {},
   "outputs": [
    {
     "name": "stdin",
     "output_type": "stream",
     "text": [
      "Enter the first number:  10\n",
      "Enter the second number:  20\n",
      "Enter the third number:  30\n"
     ]
    },
    {
     "name": "stdout",
     "output_type": "stream",
     "text": [
      "The second largest number is: 20.0\n"
     ]
    }
   ],
   "source": [
    "num1 = float(input(\"Enter the first number: \"))\n",
    "num2 = float(input(\"Enter the second number: \"))\n",
    "num3 = float(input(\"Enter the third number: \"))\n",
    "\n",
    "if (num1 > num2) and (num1 > num3):\n",
    "    secondLargest = max(num2, num3)\n",
    "elif (num2 > num1) and (num2 > num3):\n",
    "    secondLargest = max(num1, num3)\n",
    "else:\n",
    "    secondLargest = max(num1, num2)\n",
    "\n",
    "print(\"The second largest number is:\", secondLargest)\n"
   ]
  },
  {
   "cell_type": "markdown",
   "metadata": {},
   "source": [
    "### 11) WAP to calculate electricity bill based on following criteria. Which takes the unit from the user.\n",
    "a. First 1 to 50 units – Rs. 2.60/unit</br>\n",
    "b. Next 50 to 100 units – Rs. 3.25/unit</br>\n",
    "c. Next 100 to 200 units – Rs. 5.26/unit</br>\n",
    "d. above 200 units – Rs. 8.45/unit"
   ]
  },
  {
   "cell_type": "code",
   "execution_count": 179,
   "metadata": {},
   "outputs": [
    {
     "name": "stdin",
     "output_type": "stream",
     "text": [
      "Enter the number of units consumed:  123\n"
     ]
    },
    {
     "name": "stdout",
     "output_type": "stream",
     "text": [
      "The electricity bill for 123 units is: Rs. 413.48\n"
     ]
    }
   ],
   "source": [
    "units = int(input(\"Enter the number of units consumed: \"))\n",
    "\n",
    "bill = 0.0\n",
    "\n",
    "if units <= 50:\n",
    "    bill = units * 2.60\n",
    "elif units <= 100:\n",
    "    bill = (50 * 2.60) + ((units - 50) * 3.25)\n",
    "elif units <= 200:\n",
    "    bill = (50 * 2.60) + (50 * 3.25) + ((units - 100) * 5.26)\n",
    "else:\n",
    "    bill = (50 * 2.60) + (50 * 3.25) + (100 * 5.26) + ((units - 200) * 8.45)\n",
    "\n",
    "print(f\"The electricity bill for {units} units is: Rs. {bill:.2f}\")\n"
   ]
  }
 ],
 "metadata": {
  "kernelspec": {
   "display_name": "Python 3 (ipykernel)",
   "language": "python",
   "name": "python3"
  },
  "language_info": {
   "codemirror_mode": {
    "name": "ipython",
    "version": 3
   },
   "file_extension": ".py",
   "mimetype": "text/x-python",
   "name": "python",
   "nbconvert_exporter": "python",
   "pygments_lexer": "ipython3",
   "version": "3.12.7"
  }
 },
 "nbformat": 4,
 "nbformat_minor": 4
}
